{
  "nbformat": 4,
  "nbformat_minor": 0,
  "metadata": {
    "colab": {
      "provenance": [],
      "authorship_tag": "ABX9TyPGM7jJiJlAvKXcUK1vtLHw",
      "include_colab_link": true
    },
    "kernelspec": {
      "name": "python3",
      "display_name": "Python 3"
    },
    "language_info": {
      "name": "python"
    }
  },
  "cells": [
    {
      "cell_type": "markdown",
      "metadata": {
        "id": "view-in-github",
        "colab_type": "text"
      },
      "source": [
        "<a href=\"https://colab.research.google.com/github/kodeu/trading-lstm/blob/model_setup/lstm.ipynb\" target=\"_parent\"><img src=\"https://colab.research.google.com/assets/colab-badge.svg\" alt=\"Open In Colab\"/></a>"
      ]
    },
    {
      "cell_type": "code",
      "execution_count": 2,
      "metadata": {
        "colab": {
          "base_uri": "https://localhost:8080/"
        },
        "id": "7dPWWzvd5Xu4",
        "outputId": "392f3cc9-4457-4bff-baa0-69e8d1202c73"
      },
      "outputs": [
        {
          "output_type": "stream",
          "name": "stdout",
          "text": [
            "[array([[0.13527738, 0.85625771, 0.98748557, 0.63543015, 0.64728419]]), array([[0.13527738, 0.85625771, 0.98748557, 0.63543015, 0.64728419],\n",
            "       [0.97110574, 0.93583211, 0.34795809, 0.66531915, 0.52889945]]), array([[0.13527738, 0.85625771, 0.98748557, 0.63543015, 0.64728419],\n",
            "       [0.97110574, 0.93583211, 0.34795809, 0.66531915, 0.52889945],\n",
            "       [0.54497896, 0.0656654 , 0.59563736, 0.0942389 , 0.15494837]])]\n"
          ]
        }
      ],
      "source": [
        "import numpy as np\n",
        "import tensorflow as tf\n",
        "\n",
        "num_data_points = 100  # Total data points\n",
        "feature_size = 5       # Number of features per timestep\n",
        "window_size = 20       # Maximum sequence length\n",
        "\n",
        "# Generate dummy feature data and targets\n",
        "data = np.random.rand(num_data_points, feature_size)\n",
        "targets = np.random.rand(num_data_points, 1)\n",
        "\n",
        "# Create sequences with a maximum length of 'window_size'\n",
        "X = [data[max(0, i-window_size+1):i+1] for i in range(num_data_points)]\n",
        "y = [targets[max(0, i-window_size+1):i+1] for i in range(num_data_points)]\n",
        "\n",
        "print(X[:3])\n",
        "\n",
        "# Convert to TensorFlow Dataset\n",
        "train_dataset = tf.data.Dataset.from_generator(\n",
        "    lambda: ((X[i], y[i]) for i in range(len(X))),\n",
        "    output_types=(tf.float32, tf.float32),\n",
        "    output_shapes=((None, feature_size), (None, 1))\n",
        ")\n",
        "\n",
        "# Batch, pad and prefetch\n",
        "train_dataset = train_dataset.padded_batch(1, padded_shapes=([None, feature_size], [None, 1])).prefetch(tf.data.experimental.AUTOTUNE)\n"
      ]
    },
    {
      "cell_type": "code",
      "source": [
        "from tensorflow.keras.layers import Input, LSTM, Dense, TimeDistributed, Attention\n",
        "from tensorflow.keras.models import Model\n",
        "\n",
        "# Model setup\n",
        "input_layer = Input(shape=(None, feature_size))\n",
        "lstm_layer = LSTM(50, return_sequences=True)(input_layer)\n",
        "attention_layer = Attention()([lstm_layer, lstm_layer])\n",
        "output_layer = TimeDistributed(Dense(1))(attention_layer)\n",
        "\n",
        "model = Model(inputs=input_layer, outputs=output_layer)\n",
        "model.compile(optimizer='adam', loss='mse')\n",
        "model.summary()\n"
      ],
      "metadata": {
        "colab": {
          "base_uri": "https://localhost:8080/"
        },
        "id": "3B_zhbOy0Je-",
        "outputId": "1651d73f-b894-4ff4-b8c5-41747e9ea181"
      },
      "execution_count": 3,
      "outputs": [
        {
          "output_type": "stream",
          "name": "stdout",
          "text": [
            "Model: \"model\"\n",
            "__________________________________________________________________________________________________\n",
            " Layer (type)                Output Shape                 Param #   Connected to                  \n",
            "==================================================================================================\n",
            " input_1 (InputLayer)        [(None, None, 5)]            0         []                            \n",
            "                                                                                                  \n",
            " lstm (LSTM)                 (None, None, 50)             11200     ['input_1[0][0]']             \n",
            "                                                                                                  \n",
            " attention (Attention)       (None, None, 50)             0         ['lstm[0][0]',                \n",
            "                                                                     'lstm[0][0]']                \n",
            "                                                                                                  \n",
            " time_distributed (TimeDist  (None, None, 1)              51        ['attention[0][0]']           \n",
            " ributed)                                                                                         \n",
            "                                                                                                  \n",
            "==================================================================================================\n",
            "Total params: 11251 (43.95 KB)\n",
            "Trainable params: 11251 (43.95 KB)\n",
            "Non-trainable params: 0 (0.00 Byte)\n",
            "__________________________________________________________________________________________________\n"
          ]
        }
      ]
    },
    {
      "cell_type": "code",
      "source": [
        "# Train the model\n",
        "history = model.fit(train_dataset, epochs=10, verbose=1)\n"
      ],
      "metadata": {
        "colab": {
          "base_uri": "https://localhost:8080/"
        },
        "id": "XtTBmaT00Rmk",
        "outputId": "024f4175-bb6b-4879-8192-a3ef4fc9e92b"
      },
      "execution_count": 4,
      "outputs": [
        {
          "output_type": "stream",
          "name": "stdout",
          "text": [
            "Epoch 1/10\n",
            "100/100 [==============================] - 3s 10ms/step - loss: 0.0902\n",
            "Epoch 2/10\n",
            "100/100 [==============================] - 1s 9ms/step - loss: 0.0862\n",
            "Epoch 3/10\n",
            "100/100 [==============================] - 1s 9ms/step - loss: 0.0852\n",
            "Epoch 4/10\n",
            "100/100 [==============================] - 1s 8ms/step - loss: 0.0844\n",
            "Epoch 5/10\n",
            "100/100 [==============================] - 1s 8ms/step - loss: 0.0835\n",
            "Epoch 6/10\n",
            "100/100 [==============================] - 1s 9ms/step - loss: 0.0829\n",
            "Epoch 7/10\n",
            "100/100 [==============================] - 1s 10ms/step - loss: 0.0820\n",
            "Epoch 8/10\n",
            "100/100 [==============================] - 1s 13ms/step - loss: 0.0822\n",
            "Epoch 9/10\n",
            "100/100 [==============================] - 1s 9ms/step - loss: 0.0818\n",
            "Epoch 10/10\n",
            "100/100 [==============================] - 1s 9ms/step - loss: 0.0814\n"
          ]
        }
      ]
    }
  ]
}